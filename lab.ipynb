{
 "cells": [
  {
   "cell_type": "markdown",
   "metadata": {},
   "source": [
    "# M2DS, Machine learning for signal processing (MLSP) <br> Lab 1. ADMM & PnP-ADMM: application to compressed sensing"
   ]
  },
  {
   "cell_type": "markdown",
   "metadata": {},
   "source": [
    "# Setup\n",
    "\n",
    "Detailed setup instructions are contained in the [README](README.md) file provided with the lab archive."
   ]
  },
  {
   "cell_type": "code",
   "execution_count": null,
   "metadata": {},
   "outputs": [],
   "source": [
    "%reload_ext autoreload\n",
    "%autoreload 2"
   ]
  },
  {
   "cell_type": "code",
   "execution_count": null,
   "metadata": {},
   "outputs": [],
   "source": [
    "from os.path import basename, join, realpath, splitext\n",
    "from pathlib import Path\n",
    "\n",
    "import matplotlib.pyplot as plt\n",
    "import numpy as np\n",
    "import torch\n",
    "from skimage.metrics import structural_similarity as ssim\n",
    "\n",
    "import mlsp.utils.lab_utils as utls\n",
    "\n",
    "if torch.cuda.is_available():\n",
    "    device = torch.device(\"cuda\")\n",
    "elif torch.backends.mps.is_available():\n",
    "    device = torch.device(\"mps\")\n",
    "else:\n",
    "    device = torch.device(\"cpu\")\n",
    "print(\"Using device:\", device)"
   ]
  },
  {
   "cell_type": "markdown",
   "metadata": {},
   "source": [
    "# Model and data generation"
   ]
  },
  {
   "cell_type": "markdown",
   "metadata": {},
   "source": [
    "This lab is devoted to the resolution to an imaging compressed-sensing problem. The asociated measurement model is given by\n",
    "\n",
    "\\begin{equation}\n",
    "    \\mathbf{y} = \\mathbf{Ax} + \\boldsymbol{\\varepsilon}, \\quad \\boldsymbol{\\varepsilon} \\sim \\mathcal{N}(0, \\sigma^2 \\mathbf{I}_{M \\times M}),\n",
    "\\end{equation}\n",
    "\n",
    "where $\\mathbf{y} \\in \\mathbb{C}^M$ are the measurements, $\\mathbf{A} \\in \\mathbb{C}^{M \\times N}$ is a known linear compressed sensing operator, $\\sigma^2$ is the noise variance, $\\mathbf{x} \\in \\mathbb{R}^N$ is the image to be reconstructed, $\\mathbf{I}_{M \\times M}$ is the identity matrix and $M \\ll N$. \n",
    "\n",
    "Multiple choices have been proposed in the literature [Candès2006](https://moodle.univ-lille.fr/pluginfile.php/3848190/mod_resource/content/1/Cande%CC%80s%20et%20al_2006_Stable%20signal%20recovery%20from%20incomplete%20and%20inaccurate%20measurements.pdf), e.g., defining $\\mathbf{A}$ as a random Gaussian matrix (i.e., $\\mathbf{A} = (a_{m,n})_{m,n}$, with $a_{m,n}$ i.i.d samples from $\\mathcal{N}(0, 1/M)$). This choice is however not very practical for imaging applications, as it requires storing a potentially huge matrix. In this lab, we consider a Fourier-based sensing operator as in tutorial 1. The operator is defined by\n",
    "\n",
    "\\begin{equation}\n",
    "    \\mathbf{A} = \\sqrt{\\frac{N}{M}} \\mathbf{C F},\n",
    "\\end{equation}\n",
    "\n",
    "with $\\mathbf{F}\\in \\mathbb{C}^{N \\times N}$ the discrete Fourier matrix and $\\mathbf{C} \\in \\mathbb{R}^{M \\times N}$ a selection operator, extracting only the observed pixels.\n",
    "\n",
    "The implementation of the measurement operator is already provided in [`src/mlsp/model/cs_operator.py`](src/mlsp/model/cs_operator.py)\n",
    "\n",
    "<!-- $\\mathbf{P} \\in \\mathbb{R}^{N \\times N}$ a known randomly generated diagonal matrix such that $\\text{diag} (\\mathbf{P}) \\in \\{-1, 1\\}^N$ -->"
   ]
  },
  {
   "cell_type": "markdown",
   "metadata": {},
   "source": [
    "## Questions\n",
    "\n",
    "1. Write the form of the likelihood function $p(\\mathbf{y} \\mid \\mathbf{x})$ associated with the compressive sensing model considered.\n",
    "\n",
    "2. Consider a generic prior distribution of the form\n",
    "   \n",
    "    \\begin{equation}\n",
    "        p(\\mathbf{x}) \\propto \\exp\\big( -g(\\mathbf{x}) \\big),\n",
    "    \\end{equation}\n",
    "    \n",
    "    with $g: \\mathbb{R}^N \\rightarrow ]-\\infty, +\\infty]$ a function such that the prior is proper. Write down the optimization problem to which $x_{\\text{MAP}}$, the MAP estimator, is a solution.\n",
    "\n",
    "3. Recall the mathematical expression of the input SNR (iSNR), expressed in dB, in function of $\\mathbf{y}$, $\\mathbf{x}$, $\\sigma^2$, $\\mathbf{A}$ and $M$.\n",
    "\n",
    "4. Load and display a ground truth image `x` from one of the `.png` files contained in `img/` using [`mlsp.lab_utils.load_and_normalize_image`](src/mlsp/utils/lab_utils.py).\n",
    "\n",
    "5. \n",
    "   1. Complete the Python module [`src/mpsp/utils/lab_utils.py`](](src/mlsp/utils/lab_utils.py)) to generate synthetic observations `y` from `x` using the generative model considered above.\n",
    "\n",
    "   2. Apply it to generate `y` with a noise level leading to an input SNR of 30 dB.\n",
    "   > Hint: make sure the data generation is reproducible by properly seeding the state of the random number generator used (see [`torch` documentation](https://pytorch.org/docs/stable/torch.html#random-sampling))"
   ]
  },
  {
   "cell_type": "markdown",
   "metadata": {},
   "source": [
    "## Your answers\n",
    "\n",
    "1. By linearity of the Multivariate Gaussian distribution, we have that $y | x \\sim \\mathcal{N}(Ax, \\sigma^2 I_{M \\times M})$. Then,\n",
    "$$p(y | x) \\propto \\exp \\left( - \\frac{1}{2 \\sigma^2} \\| y - Ax \\|_2^2 \\right)$$\n",
    "\n",
    "2. \n",
    "$$p(x | y) \\propto p(y | x) p(x) \\propto \\exp \\left( - \\left(\\frac{1}{2 \\sigma^2} \\| y - Ax \\|_2^2 + g(x) \\right) \\right)$$\n",
    "\n",
    "$$x_{MAP} = \\arg \\min_x - \\log p(x | y) = \\arg \\min_x \\left( \\frac{1}{2 \\sigma^2} \\| y - Ax \\|_2^2 + g(x) \\right)$$\n",
    "\n",
    "$$\\nabla_x g(x) |_{x = x_{MAP}} = \\frac{1}{\\sigma^2} (y - Ax_{MAP})$$\n",
    "\n",
    "3."
   ]
  },
  {
   "cell_type": "code",
   "execution_count": null,
   "metadata": {},
   "outputs": [],
   "source": [
    "from mpl_toolkits.axes_grid1 import ImageGrid\n",
    "\n",
    "fig = plt.figure(figsize=(9, 9))\n",
    "grid = ImageGrid(fig, 111,  # similar to subplot(111)\n",
    "                 nrows_ncols=(2, 3),  # creates 2x2 grid of axes\n",
    "                 axes_pad=0.5,  # pad between axes in inch.\n",
    "                 )\n",
    "for ax, name in zip(grid, ['barb', 'boat', 'peppers', 'mandrill', 'parrotgray', 'cameraman']):\n",
    "    img = plt.imread(f\"img/{name}.png\")\n",
    "    if img.ndim > 2:\n",
    "        img = img[..., 0]\n",
    "    # Iterating over the grid returns the Axes.\n",
    "    ax.imshow(img, cmap=\"gray\")\n",
    "    ax.set_title(name)\n",
    "    ax.axis('off')\n",
    "\n",
    "plt.show()"
   ]
  },
  {
   "cell_type": "markdown",
   "metadata": {},
   "source": [
    "# TV-ADMM regularization\n",
    "\n",
    "As a baseline, we will consider an ADMM algorithm leveraging a TV regularization of the problem (see tutorial 1), i.e., using $g = \\lambda TV(\\cdot)$ for $\\lambda > 0$.\n",
    "\n",
    "1. Starting from tutorial 1, complete the [`src/mlsp/model/discrete_gradient.py`](src/mlsp/model/discrete_gradient.py) module to implement the discrete gradient operator and its adjoint. Write a short unit-test to verify the correctness of the implementation of the adjoint operator.\n",
    "\n",
    "2. Complete the files [`src/mlsp/model/cvx_functions.py`](src/mlsp/model/cvx_functions.py) and [`src/mlsp/model/prox.py`](src/mlsp/model/prox.py) to implement all the building blocks related to the TV regularization involved in the TV-ADMM algorithm.\n",
    "\n",
    "3. Using tutorial 1, indicate a possible splitting approach to ensure the update steps of the ADMM algorithm are simple to compute. Write the general expression of the resulting update steps.\n",
    "\n",
    "4. Write a simple [`torch`](https://pytorch.org/docs/stable/index.html) implementation of the ADMM algorithm, either as a function or a class, to solve the optimization problem."
   ]
  },
  {
   "cell_type": "code",
   "execution_count": null,
   "metadata": {},
   "outputs": [],
   "source": [
    "# Q1\n",
    "\n",
    "_test = torch.randint(0, 10, (3, 3))\n",
    "print(_test)\n",
    "from mlsp.model.discrete_gradient import gradient_2d\n",
    "print(gradient_2d(_test))"
   ]
  },
  {
   "cell_type": "code",
   "execution_count": null,
   "metadata": {},
   "outputs": [],
   "source": [
    "# Q2\n",
    "\n"
   ]
  },
  {
   "cell_type": "markdown",
   "metadata": {},
   "source": [
    "# Loading an existing PnP regularization (denoiser)\n",
    "\n",
    "- This lab will be based on pre-trained regularization available on github. Read the [`README.md`](README.md) file to retrieve the network weights.\n",
    "\n",
    "- Once retrieved, an example use for one of the networks is provided below."
   ]
  },
  {
   "cell_type": "code",
   "execution_count": null,
   "metadata": {},
   "outputs": [],
   "source": [
    "from mlsp.model.pnp.network_ffdnet import FFDNet\n",
    "from mlsp.model.pnp.network_unet import UNetRes\n",
    "\n",
    "rng = torch.Generator(device=\"cpu\")\n",
    "rng.manual_seed(1234)\n",
    "\n",
    "# generating a dummy test image\n",
    "x0 = torch.normal(0.0, 1.0, (128, 128), generator=rng).to(device)"
   ]
  },
  {
   "cell_type": "code",
   "execution_count": null,
   "metadata": {},
   "outputs": [],
   "source": [
    "# loading FFDNet network weights (reference: https://github.com/cszn/KAIR/blob/master/main_test_ffdnet.py)\n",
    "model_path = \"labs/weights/ffdnet_gray.pth\"\n",
    "n_channels = 1  # setting for grayscale image\n",
    "nc = 64  # setting for grayscale image\n",
    "nb = 15  # setting for grayscale image\n",
    "denoiser = FFDNet(in_nc=n_channels, out_nc=n_channels, nc=nc, nb=nb, act_mode=\"R\")\n",
    "denoiser.load_state_dict(torch.load(model_path), strict=True)\n",
    "denoiser.eval()\n",
    "denoiser = denoiser.to(device)\n",
    "\n",
    "# noise level for the denoiser\n",
    "noise_level_model = 5.0\n",
    "sigma = torch.full((1, 1, 1, 1), noise_level_model / 255.0).type_as(x0)"
   ]
  },
  {
   "cell_type": "code",
   "execution_count": null,
   "metadata": {},
   "outputs": [],
   "source": [
    "x0.shape, sigma.shape"
   ]
  },
  {
   "cell_type": "code",
   "execution_count": null,
   "metadata": {},
   "outputs": [],
   "source": [
    "# applying the network (applies by defaut to multiple images in a multi-channel setting, Ni x C x Nx x Ny, with Ni = C = 1 in our case)\n",
    "x_denoised = torch.squeeze(denoiser(x0[None, None, ...], sigma))\n",
    "x_denoised.shape"
   ]
  },
  {
   "cell_type": "markdown",
   "metadata": {},
   "source": [
    "# PnP-ADMM\n",
    "\n",
    "The plug-and-play (PnP) approach relies on the use of a pre-trained denoiser, encoded in this lab by a neural network. We will mostly use pre-trained networks provided [online on github](https://github.com/cszn/KAIR), see example above.\n",
    "\n",
    "1. Recall the form of the ADMM and PnP-ADMM algorithms instantiated for the problem considered, expressed in terms a generic denoiser $D_\\sigma$, with $\\sigma > 0$.\n",
    "\n",
    "2. Write a simple [`torch`](https://pytorch.org/docs/stable/index.html) implementation of the PnP-ADMM algorithm.\n",
    "> Hint: \n",
    "> - make sure the evolution of the cost function is returned to monitor the behaviour of the algorithm."
   ]
  },
  {
   "cell_type": "markdown",
   "metadata": {},
   "source": [
    "## Your answers\n",
    "\n",
    "1. <p style=\"color:rgb(137, 207, 240);\">Your answer</p>"
   ]
  },
  {
   "cell_type": "code",
   "execution_count": null,
   "metadata": {},
   "outputs": [],
   "source": [
    "from mlsp.utils.lab_utils import load_and_normalize_image, generate_2d_cs_data"
   ]
  },
  {
   "cell_type": "code",
   "execution_count": null,
   "metadata": {},
   "outputs": [],
   "source": [
    "x = load_and_normalize_image(\n",
    "    \"img/barb.png\", device, max_intensity=None, downsampling=4\n",
    ")\n",
    "print(\"Image size: {}\".format(x.shape))\n",
    "\n",
    "isnr = 30\n",
    "rng = torch.Generator(device=\"cpu\")\n",
    "rng.manual_seed(1234)\n",
    "\n",
    "percent = 0.6\n",
    "observations, sensing_operator, sig, clean_observations = generate_2d_cs_data(x, percent, isnr, rng)\n",
    "\n",
    "print(\"Image size: {}\".format(x.shape))\n",
    "print(\"Number of observations: {}\".format(sensing_operator.data_size))"
   ]
  },
  {
   "cell_type": "code",
   "execution_count": null,
   "metadata": {},
   "outputs": [],
   "source": [
    "nstep = 1000\n",
    "x_old = x.clone()\n",
    "z = x_old.clone()\n",
    "u = torch.zeros_like(x)"
   ]
  },
  {
   "cell_type": "code",
   "execution_count": null,
   "metadata": {},
   "outputs": [],
   "source": [
    "\n",
    "from mlsp.model.prox import prox_l21norm\n",
    "\n",
    "for i in range(nstep):\n",
    "    x = prox_l21norm((z - u), 1.0).to(device)\n",
    "    z = denoiser((x + u)[None, None, ...], sigma).squeeze()\n",
    "    u = u + x - z\n",
    "    ssim_val = ssim(x0.cpu().numpy(), x.cpu().numpy(), data_range=1.0)\n",
    "    x_old = x.clone()\n",
    "    print(f\"Step {i+1}/{nstep}, SSIM: {ssim_val:.4f}\", end=\"\\r\")"
   ]
  },
  {
   "cell_type": "code",
   "execution_count": null,
   "metadata": {},
   "outputs": [],
   "source": [
    "plt.imshow(x.cpu().numpy(), cmap=\"gray\")"
   ]
  },
  {
   "cell_type": "code",
   "execution_count": null,
   "metadata": {},
   "outputs": [],
   "source": [
    "plt.imshow(x0.cpu().numpy(), cmap=\"gray\")"
   ]
  },
  {
   "cell_type": "markdown",
   "metadata": {},
   "source": [
    "# Results and comparisons\n",
    "\n",
    "1. \n",
    "   1. Recall the definition of the reconstruction signal to noise ratio (rSNR). \n",
    "   \n",
    "   2. Which limitation do you see with this criterion when it comes to assessing the reconstruction of low-amplitude coefficients in the unknown parameter? Is this criterion enough to fully assess the performance of an algorithm.\n",
    "   \n",
    "   3. Implement a `torch` function to compte the rSNR.\n",
    "\n",
    "2. Visually compare the results obtained with the TV-ADMM and PnP-ADMM algorithms, as well as the evolution of the cost function over the iterations.\n",
    "\n",
    "3. Evaluate the reconstruction performance in terms of rSNR and structural similarity index ([SSIM](https://scikit-image.org/docs/stable/auto_examples/transform/plot_ssim.html))\n",
    "\n",
    "4. Conclude on the performance of these approaches. Identify some of their limits."
   ]
  },
  {
   "cell_type": "markdown",
   "metadata": {},
   "source": [
    "## Your answers\n",
    "\n",
    "1. \n",
    "   1. <p style=\"color:rgb(137, 207, 240);\">Your answer</p>\n",
    "\n",
    "   2. <p style=\"color:rgb(137, 207, 240);\">Your answer</p>\n",
    "\n",
    "   3. <p style=\"color:rgb(137, 207, 240);\">Your answer</p>\n",
    "\n",
    "2. <p style=\"color:rgb(137, 207, 240);\">Your answer</p>\n",
    "3. <p style=\"color:rgb(137, 207, 240);\">Your answer</p>\n",
    "4. <p style=\"color:rgb(137, 207, 240);\">Your answer</p>"
   ]
  },
  {
   "cell_type": "code",
   "execution_count": null,
   "metadata": {},
   "outputs": [],
   "source": [
    "# your code (mostly call to functions you need to implement in a Python module)"
   ]
  },
  {
   "cell_type": "markdown",
   "metadata": {},
   "source": [
    "# Bonus: implementation using the `deepinv` library\n",
    "\n",
    "The [`deepinv`](https://github.com/deepinv/deepinv) library offers a pre-defined set of algorithms and modeling blocks to solve inverse problems with PnP priors.\n",
    "\n",
    "1. Take a look at the [documentation](https://deepinv.github.io/deepinv/index.html) and the [provided examples](https://deepinv.github.io/deepinv/auto_examples/plug-and-play/demo_PnP_DPIR_deblur.html#sphx-glr-auto-examples-plug-and-play-demo-pnp-dpir-deblur-py). Use one of the optimization algorithms available in the library for comparison with the PnP-ADMM algorithm implemented above.\n",
    "\n",
    "2. Compare the results obtained to those of your implementation in terms of reconstruction performance and timing.\n",
    "\n",
    "> Hints:\n",
    "> - Take a look at the [tutorial example](https://deepinv.github.io/deepinv/auto_examples/plug-and-play/demo_PnP_custom_optim.html#sphx-glr-auto-examples-plug-and-play-demo-pnp-custom-optim-py) to see how to combine the different ingredients made available in the library."
   ]
  },
  {
   "cell_type": "code",
   "execution_count": null,
   "metadata": {},
   "outputs": [],
   "source": [
    "# your code (mostly call to functions you need to implement in a Python module)"
   ]
  }
 ],
 "metadata": {
  "kernelspec": {
   "display_name": "mlsp",
   "language": "python",
   "name": "python3"
  },
  "language_info": {
   "codemirror_mode": {
    "name": "ipython",
    "version": 3
   },
   "file_extension": ".py",
   "mimetype": "text/x-python",
   "name": "python",
   "nbconvert_exporter": "python",
   "pygments_lexer": "ipython3",
   "version": "3.10.12"
  }
 },
 "nbformat": 4,
 "nbformat_minor": 2
}
